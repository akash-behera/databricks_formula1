{
 "cells": [
  {
   "cell_type": "code",
   "execution_count": 0,
   "metadata": {
    "application/vnd.databricks.v1+cell": {
     "cellMetadata": {
      "byteLimit": 2048000,
      "rowLimit": 10000
     },
     "inputWidgets": {},
     "nuid": "dcde9608-dd40-4fd5-87cb-1dff14fbcce9",
     "showTitle": false,
     "tableResultSettingsMap": {},
     "title": ""
    }
   },
   "outputs": [],
   "source": [
    "CREATE DATABASE IF NOT EXISTS f1_raw;"
   ]
  },
  {
   "cell_type": "markdown",
   "metadata": {
    "application/vnd.databricks.v1+cell": {
     "cellMetadata": {},
     "inputWidgets": {},
     "nuid": "769a4767-e604-476b-a0c7-7d85258a5226",
     "showTitle": false,
     "tableResultSettingsMap": {},
     "title": ""
    }
   },
   "source": [
    "### Create circuits table"
   ]
  },
  {
   "cell_type": "code",
   "execution_count": 0,
   "metadata": {
    "application/vnd.databricks.v1+cell": {
     "cellMetadata": {
      "byteLimit": 2048000,
      "rowLimit": 10000
     },
     "inputWidgets": {},
     "nuid": "7700c572-2667-413b-a937-33800d6cea3c",
     "showTitle": false,
     "tableResultSettingsMap": {},
     "title": ""
    }
   },
   "outputs": [],
   "source": [
    "DROP TABLE IF EXISTS f1_raw.circuits;\n",
    "CREATE TABLE IF NOT EXISTS f1_raw.circuits(\n",
    "  circuitId INT,\n",
    "  circuitRef STRING,\n",
    "  name STRING,\n",
    "  location STRING,\n",
    "  country STRING,\n",
    "  lat DOUBLE,\n",
    "  lng DOUBLE,\n",
    "  alt INT,\n",
    "  url STRING\n",
    ")\n",
    "USING csv\n",
    "OPTIONS (path \"/mnt/formula1pond/raw/circuits.csv\", header true)"
   ]
  },
  {
   "cell_type": "code",
   "execution_count": 0,
   "metadata": {
    "application/vnd.databricks.v1+cell": {
     "cellMetadata": {
      "byteLimit": 2048000,
      "rowLimit": 10000
     },
     "inputWidgets": {},
     "nuid": "8ea7ec4a-f056-4739-857b-399f45f6e1da",
     "showTitle": false,
     "tableResultSettingsMap": {},
     "title": ""
    }
   },
   "outputs": [],
   "source": [
    "SELECT\n",
    "* FROM f1_raw.circuits;"
   ]
  },
  {
   "cell_type": "markdown",
   "metadata": {
    "application/vnd.databricks.v1+cell": {
     "cellMetadata": {},
     "inputWidgets": {},
     "nuid": "febf0df9-e660-4830-8ed8-c5869e1f4ee5",
     "showTitle": false,
     "tableResultSettingsMap": {},
     "title": ""
    }
   },
   "source": [
    "### Create races table"
   ]
  },
  {
   "cell_type": "code",
   "execution_count": 0,
   "metadata": {
    "application/vnd.databricks.v1+cell": {
     "cellMetadata": {
      "byteLimit": 2048000,
      "rowLimit": 10000
     },
     "inputWidgets": {},
     "nuid": "ad27a1fe-1887-4cd3-868a-60f4df9bda41",
     "showTitle": false,
     "tableResultSettingsMap": {},
     "title": ""
    }
   },
   "outputs": [],
   "source": [
    "DROP TABLE IF EXISTS f1_raw.races;\n",
    "CREATE TABLE IF NOT EXISTS f1_raw.races(\n",
    "  raceId INT,\n",
    "  round INT,\n",
    "  circuitId INT,\n",
    "  name STRING,\n",
    "  date DATE,\n",
    "  time STRING,\n",
    "  url STRING\n",
    ")\n",
    "USING csv\n",
    "OPTIONS (path \"/mnt/formula1pond/raw/races.csv\", header true)"
   ]
  },
  {
   "cell_type": "code",
   "execution_count": 0,
   "metadata": {
    "application/vnd.databricks.v1+cell": {
     "cellMetadata": {
      "byteLimit": 2048000,
      "rowLimit": 10000
     },
     "inputWidgets": {},
     "nuid": "8636efb6-d3d4-4128-a963-45287faebbc0",
     "showTitle": false,
     "tableResultSettingsMap": {},
     "title": ""
    }
   },
   "outputs": [],
   "source": [
    "SELECT * \n",
    "FROM f1_raw.races;"
   ]
  },
  {
   "cell_type": "markdown",
   "metadata": {
    "application/vnd.databricks.v1+cell": {
     "cellMetadata": {},
     "inputWidgets": {},
     "nuid": "8232bc06-adf3-4844-8c90-ef5b3e05e057",
     "showTitle": false,
     "tableResultSettingsMap": {},
     "title": ""
    }
   },
   "source": [
    "### Create tables for JSON files"
   ]
  },
  {
   "cell_type": "markdown",
   "metadata": {
    "application/vnd.databricks.v1+cell": {
     "cellMetadata": {},
     "inputWidgets": {},
     "nuid": "f74bc031-8236-45f6-b388-02aca5ff8230",
     "showTitle": false,
     "tableResultSettingsMap": {},
     "title": ""
    }
   },
   "source": [
    "#### Create constructors table\n",
    "- Single Line JSON\n",
    "- Simple Structure"
   ]
  },
  {
   "cell_type": "code",
   "execution_count": 0,
   "metadata": {
    "application/vnd.databricks.v1+cell": {
     "cellMetadata": {
      "byteLimit": 2048000,
      "rowLimit": 10000
     },
     "inputWidgets": {},
     "nuid": "bc8ec42d-3e15-4bde-a909-b08c47b304ab",
     "showTitle": false,
     "tableResultSettingsMap": {},
     "title": ""
    }
   },
   "outputs": [],
   "source": [
    "DROP TABLE IF EXISTS f1_raw.constructors;\n",
    "CREATE TABLE IF NOT EXISTS f1_raw.constructors(\n",
    "  constructorId INT, \n",
    "  constructorRef STRING, \n",
    "  name STRING, \n",
    "  nationality STRING, \n",
    "  url STRING\n",
    ")\n",
    "USING JSON\n",
    "OPTIONS (path \"/mnt/formula1pond/raw/constructors.json\")"
   ]
  },
  {
   "cell_type": "code",
   "execution_count": 0,
   "metadata": {
    "application/vnd.databricks.v1+cell": {
     "cellMetadata": {
      "byteLimit": 2048000,
      "rowLimit": 10000
     },
     "inputWidgets": {},
     "nuid": "e33eec6c-c8ed-40ef-9a62-907100ecb46c",
     "showTitle": false,
     "tableResultSettingsMap": {},
     "title": ""
    }
   },
   "outputs": [],
   "source": [
    "SELECT * \n",
    "FROM f1_raw.constructors;"
   ]
  },
  {
   "cell_type": "markdown",
   "metadata": {
    "application/vnd.databricks.v1+cell": {
     "cellMetadata": {},
     "inputWidgets": {},
     "nuid": "9d92ceda-0310-49e1-afcc-9ddba17d5059",
     "showTitle": false,
     "tableResultSettingsMap": {},
     "title": ""
    }
   },
   "source": [
    "#### Create drivers table\n",
    "- Single Line JSON\n",
    "- Complex Structure"
   ]
  },
  {
   "cell_type": "code",
   "execution_count": 0,
   "metadata": {
    "application/vnd.databricks.v1+cell": {
     "cellMetadata": {
      "byteLimit": 2048000,
      "rowLimit": 10000
     },
     "inputWidgets": {},
     "nuid": "061e39ef-0b04-4ea1-bbfc-a452f49bfc72",
     "showTitle": false,
     "tableResultSettingsMap": {},
     "title": ""
    }
   },
   "outputs": [],
   "source": [
    "DROP TABLE IF EXISTS f1_raw.drivers;\n",
    "CREATE TABLE IF NOT EXISTS f1_raw.drivers(\n",
    "  driverId INT, \n",
    "  driverRef STRING,\n",
    "  number INT,\n",
    "  code STRING,\n",
    "  name STRUCT<forename: STRING, surname: STRING>,\n",
    "  dob DATE,\n",
    "  nationality STRING,\n",
    "  url STRING\n",
    ")\n",
    "USING JSON\n",
    "OPTIONS (path \"/mnt/formula1pond/raw/drivers.json\")"
   ]
  },
  {
   "cell_type": "code",
   "execution_count": 0,
   "metadata": {
    "application/vnd.databricks.v1+cell": {
     "cellMetadata": {
      "byteLimit": 2048000,
      "rowLimit": 10000
     },
     "inputWidgets": {},
     "nuid": "7db6561e-407d-4f12-82b8-39bb961590d9",
     "showTitle": false,
     "tableResultSettingsMap": {},
     "title": ""
    }
   },
   "outputs": [],
   "source": [
    "SELECT * \n",
    "FROM f1_raw.drivers;"
   ]
  },
  {
   "cell_type": "markdown",
   "metadata": {
    "application/vnd.databricks.v1+cell": {
     "cellMetadata": {},
     "inputWidgets": {},
     "nuid": "39103403-a1de-4be3-bbd5-0f5ae123e88c",
     "showTitle": false,
     "tableResultSettingsMap": {},
     "title": ""
    }
   },
   "source": [
    "#### Create results table\n",
    "- Single Line JSON\n",
    "- Simple Structure"
   ]
  },
  {
   "cell_type": "code",
   "execution_count": 0,
   "metadata": {
    "application/vnd.databricks.v1+cell": {
     "cellMetadata": {
      "byteLimit": 2048000,
      "rowLimit": 10000
     },
     "inputWidgets": {},
     "nuid": "bf1b740f-7db6-47f5-acc6-f8445022f0e9",
     "showTitle": false,
     "tableResultSettingsMap": {},
     "title": ""
    }
   },
   "outputs": [],
   "source": [
    "DROP TABLE IF EXISTS f1_raw.results;\n",
    "CREATE TABLE IF NOT EXISTS f1_raw.results(\n",
    "  resultId INT,\n",
    "  raceId INT,\n",
    "  driverId INT,\n",
    "  constructorId INT,\n",
    "  number INT,\n",
    "  grid INT,\n",
    "  position INT,\n",
    "  positionText STRING,\n",
    "  positionOrder INT,\n",
    "  points INT,\n",
    "  laps INT,\n",
    "  time STRING,\n",
    "  milliseconds INT,\n",
    "  fastestLap INT,\n",
    "  rank INT,\n",
    "  fastestLapSpeed FLOAT,\n",
    "  statusID STRING\n",
    ")\n",
    "USING JSON\n",
    "OPTIONS (path \"/mnt/formula1pond/raw/results.json\")"
   ]
  },
  {
   "cell_type": "code",
   "execution_count": 0,
   "metadata": {
    "application/vnd.databricks.v1+cell": {
     "cellMetadata": {
      "byteLimit": 2048000,
      "rowLimit": 10000
     },
     "inputWidgets": {},
     "nuid": "22b77e2d-ee61-4681-8bb4-fc42ae49331a",
     "showTitle": false,
     "tableResultSettingsMap": {},
     "title": ""
    }
   },
   "outputs": [],
   "source": [
    "SELECT * \n",
    "FROM f1_raw.results;"
   ]
  },
  {
   "cell_type": "markdown",
   "metadata": {
    "application/vnd.databricks.v1+cell": {
     "cellMetadata": {},
     "inputWidgets": {},
     "nuid": "df056568-1995-433e-87e7-f975f2d07659",
     "showTitle": false,
     "tableResultSettingsMap": {},
     "title": ""
    }
   },
   "source": [
    "#### Create pit stops table\n",
    "- Multi Line JSON\n",
    "- Simple Structure"
   ]
  },
  {
   "cell_type": "code",
   "execution_count": 0,
   "metadata": {
    "application/vnd.databricks.v1+cell": {
     "cellMetadata": {
      "byteLimit": 2048000,
      "rowLimit": 10000
     },
     "inputWidgets": {},
     "nuid": "e9e7cd3d-0aca-4b97-a758-1bafb02b40aa",
     "showTitle": false,
     "tableResultSettingsMap": {},
     "title": ""
    }
   },
   "outputs": [],
   "source": [
    "DROP TABLE IF EXISTS f1_raw.pit_stops;\n",
    "CREATE TABLE IF NOT EXISTS f1_raw.pit_stops(\n",
    "  driverId INT,\n",
    "  duration STRING,\n",
    "  lap INT,\n",
    "  milliseconds INT,\n",
    "  stop INT,\n",
    "  time STRING\n",
    ")\n",
    "USING JSON\n",
    "OPTIONS (path \"/mnt/formula1pond/raw/pit_stops.json\", multiLne true)\n"
   ]
  },
  {
   "cell_type": "code",
   "execution_count": 0,
   "metadata": {
    "application/vnd.databricks.v1+cell": {
     "cellMetadata": {
      "byteLimit": 2048000,
      "rowLimit": 10000
     },
     "inputWidgets": {},
     "nuid": "53345c5b-8825-4005-b154-5f57f73fafab",
     "showTitle": false,
     "tableResultSettingsMap": {},
     "title": ""
    }
   },
   "outputs": [],
   "source": [
    "SELECT * \n",
    "FROM f1_raw.pit_stops;"
   ]
  },
  {
   "cell_type": "markdown",
   "metadata": {
    "application/vnd.databricks.v1+cell": {
     "cellMetadata": {},
     "inputWidgets": {},
     "nuid": "8ee890f8-4e29-47d2-a9b2-c9f86dd1afc6",
     "showTitle": false,
     "tableResultSettingsMap": {},
     "title": ""
    }
   },
   "source": [
    "### Create tables for list of files "
   ]
  },
  {
   "cell_type": "markdown",
   "metadata": {
    "application/vnd.databricks.v1+cell": {
     "cellMetadata": {},
     "inputWidgets": {},
     "nuid": "9e5612b6-afa6-4709-93dd-1a4872927c67",
     "showTitle": false,
     "tableResultSettingsMap": {},
     "title": ""
    }
   },
   "source": [
    "#### Create Lap Times Table\n",
    "- CSV\n",
    "- Multiple files"
   ]
  },
  {
   "cell_type": "code",
   "execution_count": 0,
   "metadata": {
    "application/vnd.databricks.v1+cell": {
     "cellMetadata": {
      "byteLimit": 2048000,
      "rowLimit": 10000
     },
     "inputWidgets": {},
     "nuid": "234c6b56-963f-46c7-beda-d5e2323140db",
     "showTitle": false,
     "tableResultSettingsMap": {},
     "title": ""
    }
   },
   "outputs": [],
   "source": [
    "DROP TABLE IF EXISTS f1_raw.lap_times;\n",
    "CREATE TABLE IF NOT EXISTS f1_raw.lap_times(\n",
    "  raceId INT,\n",
    "  driverId INT,\n",
    "  lap INT,\n",
    "  position INT,\n",
    "  time STRING,\n",
    "  milliseconds INT\n",
    ")\n",
    "USING CSV\n",
    "OPTIONS (path \"/mnt/formula1pond/raw/lap_times\")"
   ]
  },
  {
   "cell_type": "code",
   "execution_count": 0,
   "metadata": {
    "application/vnd.databricks.v1+cell": {
     "cellMetadata": {
      "byteLimit": 2048000,
      "rowLimit": 10000
     },
     "inputWidgets": {},
     "nuid": "377ad1b6-8cf7-4fb0-976f-601451960500",
     "showTitle": false,
     "tableResultSettingsMap": {},
     "title": ""
    }
   },
   "outputs": [],
   "source": [
    "SELECT * \n",
    "FROM f1_raw.lap_times;"
   ]
  },
  {
   "cell_type": "markdown",
   "metadata": {
    "application/vnd.databricks.v1+cell": {
     "cellMetadata": {},
     "inputWidgets": {},
     "nuid": "37fc38c8-bb46-4a41-9d1f-6dd67e752c93",
     "showTitle": false,
     "tableResultSettingsMap": {},
     "title": ""
    }
   },
   "source": [
    "#### Create Qualifying Table\n",
    "- JSON file\n",
    "- MultiLine JSON\n",
    "- Multiple files"
   ]
  },
  {
   "cell_type": "code",
   "execution_count": 0,
   "metadata": {
    "application/vnd.databricks.v1+cell": {
     "cellMetadata": {
      "byteLimit": 2048000,
      "rowLimit": 10000
     },
     "inputWidgets": {},
     "nuid": "82ff85c1-8e09-4e8b-a072-1863fb8177dc",
     "showTitle": false,
     "tableResultSettingsMap": {},
     "title": ""
    }
   },
   "outputs": [],
   "source": [
    "DROP TABLE IF EXISTS f1_raw.qualifying;\n",
    "CREATE TABLE IF NOT EXISTS f1_raw.qualifying(\n",
    "  qualifyId INT,\n",
    "  raceId INT,\n",
    "  driverId INT,\n",
    "  constructorId INT,\n",
    "  number INT,\n",
    "  position INT,\n",
    "  q1 STRING,\n",
    "  q2 STRING,\n",
    "  q3 STRING\n",
    ")\n",
    "USING JSON\n",
    "OPTIONS (path \"/mnt/formula1pond/raw/qualifying\", multiLine true)"
   ]
  },
  {
   "cell_type": "code",
   "execution_count": 0,
   "metadata": {
    "application/vnd.databricks.v1+cell": {
     "cellMetadata": {
      "byteLimit": 2048000,
      "rowLimit": 10000
     },
     "inputWidgets": {},
     "nuid": "aaf8927a-7d8a-47aa-97ff-4b4c63c7b879",
     "showTitle": false,
     "tableResultSettingsMap": {},
     "title": ""
    }
   },
   "outputs": [],
   "source": [
    "SELECT * \n",
    "FROM f1_raw.qualifying;"
   ]
  },
  {
   "cell_type": "code",
   "execution_count": 0,
   "metadata": {
    "application/vnd.databricks.v1+cell": {
     "cellMetadata": {
      "byteLimit": 2048000,
      "rowLimit": 10000
     },
     "inputWidgets": {},
     "nuid": "de68cac6-7e7b-449d-9686-1e4dd61671ba",
     "showTitle": false,
     "tableResultSettingsMap": {},
     "title": ""
    }
   },
   "outputs": [],
   "source": [
    "DESCRIBE TABLE f1_raw.qualifying;"
   ]
  },
  {
   "cell_type": "code",
   "execution_count": 0,
   "metadata": {
    "application/vnd.databricks.v1+cell": {
     "cellMetadata": {},
     "inputWidgets": {},
     "nuid": "c06f7384-a3e6-4c7d-9f6c-12cb48895d35",
     "showTitle": false,
     "tableResultSettingsMap": {},
     "title": ""
    }
   },
   "outputs": [],
   "source": []
  }
 ],
 "metadata": {
  "application/vnd.databricks.v1+notebook": {
   "computePreferences": null,
   "dashboards": [],
   "environmentMetadata": {
    "base_environment": "",
    "environment_version": "2"
   },
   "inputWidgetPreferences": null,
   "language": "sql",
   "notebookMetadata": {
    "pythonIndentUnit": 4
   },
   "notebookName": "1.create_raw_tables",
   "widgets": {}
  },
  "language_info": {
   "name": "sql"
  }
 },
 "nbformat": 4,
 "nbformat_minor": 0
}
