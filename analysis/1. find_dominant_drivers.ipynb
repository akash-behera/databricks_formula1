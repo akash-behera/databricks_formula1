{
 "cells": [
  {
   "cell_type": "code",
   "execution_count": 0,
   "metadata": {
    "application/vnd.databricks.v1+cell": {
     "cellMetadata": {
      "byteLimit": 2048000,
      "rowLimit": 10000
     },
     "inputWidgets": {},
     "nuid": "622c31a4-d782-4944-9c84-f726349deff4",
     "showTitle": false,
     "tableResultSettingsMap": {},
     "title": ""
    }
   },
   "outputs": [],
   "source": [
    "SELECT driver_name, COUNT(*) AS total_races, SUM(calculated_points) AS total_points, AVG(calculated_points) AS avg_points\n",
    "FROM f1_presentation.calculated_race_results\n",
    "GROUP BY driver_name\n",
    "HAVING COUNT(*) >= 50\n",
    "ORDER BY avg_points DESC"
   ]
  },
  {
   "cell_type": "code",
   "execution_count": 0,
   "metadata": {
    "application/vnd.databricks.v1+cell": {
     "cellMetadata": {
      "byteLimit": 2048000,
      "rowLimit": 10000
     },
     "inputWidgets": {},
     "nuid": "5e7a10bc-e317-42b9-a4a6-5ece8b5fc5a1",
     "showTitle": false,
     "tableResultSettingsMap": {},
     "title": ""
    }
   },
   "outputs": [],
   "source": [
    "SELECT driver_name, COUNT(*) AS total_races, SUM(calculated_points) AS total_points, AVG(calculated_points) AS avg_points\n",
    "FROM f1_presentation.calculated_race_results\n",
    "WHERE  race_year BETWEEN 2011 AND 2020\n",
    "GROUP BY driver_name\n",
    "HAVING COUNT(*) >= 50\n",
    "ORDER BY avg_points DESC"
   ]
  },
  {
   "cell_type": "code",
   "execution_count": 0,
   "metadata": {
    "application/vnd.databricks.v1+cell": {
     "cellMetadata": {},
     "inputWidgets": {},
     "nuid": "033644a2-9e75-4497-9791-3f8374a57d10",
     "showTitle": false,
     "tableResultSettingsMap": {},
     "title": ""
    }
   },
   "outputs": [],
   "source": []
  }
 ],
 "metadata": {
  "application/vnd.databricks.v1+notebook": {
   "computePreferences": null,
   "dashboards": [],
   "environmentMetadata": {
    "base_environment": "",
    "environment_version": "2"
   },
   "inputWidgetPreferences": null,
   "language": "sql",
   "notebookMetadata": {
    "pythonIndentUnit": 4
   },
   "notebookName": "1. find_dominant_drivers",
   "widgets": {}
  },
  "language_info": {
   "name": "sql"
  }
 },
 "nbformat": 4,
 "nbformat_minor": 0
}
